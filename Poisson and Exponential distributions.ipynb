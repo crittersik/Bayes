{
 "cells": [
  {
   "cell_type": "markdown",
   "metadata": {},
   "source": [
    "The goal of this excercise is to split data automatically into two parts, after a change in trend, assuming those are count related data from Poisson distributions with different lambdas. This excercise is not original and follows the concepts of book Probabilistic-Programming-and-Bayesian-Methods-for-Hackers and PYMC tutorial https://pymc-devs.github.io/pymc/tutorial.html#"
   ]
  },
  {
   "cell_type": "code",
   "execution_count": null,
   "metadata": {
    "collapsed": false
   },
   "outputs": [],
   "source": [
    "import numpy as np\n",
    "import pymc3 as pm\n",
    "\n",
    "from matplotlib import pyplot as plt\n",
    "from IPython.core.pylabtools import figsize\n",
    "\n",
    "%matplotlib inline\n",
    "\n",
    "plt.style.use('bmh')\n",
    "nice_colour = \"#bd345d\""
   ]
  },
  {
   "cell_type": "markdown",
   "metadata": {},
   "source": [
    "We will generate data from Poisson probability distributions with two different lambda paramaters. "
   ]
  },
  {
   "cell_type": "code",
   "execution_count": null,
   "metadata": {
    "collapsed": false
   },
   "outputs": [],
   "source": [
    "#specify params of your data\n",
    "lam_1 = 1.50\n",
    "count_1 = 15\n",
    "lam_2 = 5.00\n",
    "count_2 = 15\n",
    "\n",
    "arr_1 = np.random.poisson(lam=lam_1, size=count_1)\n",
    "arr_2 = np.random.poisson(lam=lam_2, size=count_2)\n",
    "arr = np.concatenate((arr_1, arr_2))\n",
    "n_arr = count_1 + count_2\n",
    "av = np.average(arr)"
   ]
  },
  {
   "cell_type": "code",
   "execution_count": null,
   "metadata": {
    "collapsed": false
   },
   "outputs": [],
   "source": [
    "figsize(12.5, 3.5)\n",
    "plt.bar(np.arange(n_arr), arr, color=nice_colour)\n",
    "plt.title(\"Our Generated Dataset\");"
   ]
  },
  {
   "cell_type": "markdown",
   "metadata": {},
   "source": [
    "We will assume that lambda's are drawn from exponential distribution."
   ]
  },
  {
   "cell_type": "code",
   "execution_count": null,
   "metadata": {
    "collapsed": false
   },
   "outputs": [],
   "source": [
    "with pm.Model() as model:\n",
    "    # create lambda_1 and lambda_2 as stochastic variables\n",
    "    # (random number generators)\n",
    "    lambda_1 = pm.Exponential(\"lambda_1\", av)\n",
    "    lambda_2 = pm.Exponential(\"lambda_2\", av)\n",
    "    tau = pm.DiscreteUniform(\"tau\", lower=0, upper=n_arr)\n",
    "    \n",
    "with model:\n",
    "    idx = np.arange(n_arr) # Index\n",
    "    lambda_ = pm.math.switch(tau >= idx, lambda_1, lambda_2)"
   ]
  },
  {
   "cell_type": "code",
   "execution_count": null,
   "metadata": {
    "collapsed": false
   },
   "outputs": [],
   "source": []
  }
 ],
 "metadata": {
  "kernelspec": {
   "display_name": "Python 3",
   "language": "python",
   "name": "python3"
  },
  "language_info": {
   "codemirror_mode": {
    "name": "ipython",
    "version": 3
   },
   "file_extension": ".py",
   "mimetype": "text/x-python",
   "name": "python",
   "nbconvert_exporter": "python",
   "pygments_lexer": "ipython3",
   "version": "3.5.2"
  }
 },
 "nbformat": 4,
 "nbformat_minor": 0
}
